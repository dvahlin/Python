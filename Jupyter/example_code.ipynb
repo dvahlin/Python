{
 "cells": [
  {
   "cell_type": "code",
   "execution_count": 1,
   "metadata": {},
   "outputs": [],
   "source": [
    "# Standard pandas numpy\n",
    "import numpy as np\n",
    "import pandas as pd\n",
    "import scipy\n",
    "import ipywidgets as widgets\n",
    "from ipywidgets import interact, interact_manual\n",
    "from IPython.display import Image, display, HTML\n",
    "# Show all code cells outputs\n",
    "from IPython.core.interactiveshell import InteractiveShell\n",
    "InteractiveShell.ast_node_interactivity = 'all'"
   ]
  },
  {
   "cell_type": "code",
   "execution_count": 2,
   "metadata": {},
   "outputs": [],
   "source": [
    "csv_file = '/root/menu.csv'"
   ]
  },
  {
   "cell_type": "code",
   "execution_count": 3,
   "metadata": {},
   "outputs": [],
   "source": [
    "df = pd.read_csv(csv_file, sep='\\t', header=0)"
   ]
  },
  {
   "cell_type": "code",
   "execution_count": 4,
   "metadata": {},
   "outputs": [
    {
     "data": {
      "text/html": [
       "<div>\n",
       "<style scoped>\n",
       "    .dataframe tbody tr th:only-of-type {\n",
       "        vertical-align: middle;\n",
       "    }\n",
       "\n",
       "    .dataframe tbody tr th {\n",
       "        vertical-align: top;\n",
       "    }\n",
       "\n",
       "    .dataframe thead th {\n",
       "        text-align: right;\n",
       "    }\n",
       "</style>\n",
       "<table border=\"1\" class=\"dataframe\">\n",
       "  <thead>\n",
       "    <tr style=\"text-align: right;\">\n",
       "      <th></th>\n",
       "      <th>CHOICE</th>\n",
       "      <th>PRICE</th>\n",
       "      <th>DESC</th>\n",
       "      <th>TYPE</th>\n",
       "    </tr>\n",
       "  </thead>\n",
       "  <tbody>\n",
       "    <tr>\n",
       "      <th>0</th>\n",
       "      <td>Nej</td>\n",
       "      <td>0</td>\n",
       "      <td>Nej</td>\n",
       "      <td>Dryck</td>\n",
       "    </tr>\n",
       "    <tr>\n",
       "      <th>1</th>\n",
       "      <td>Ja</td>\n",
       "      <td>20</td>\n",
       "      <td>Ja</td>\n",
       "      <td>Dryck</td>\n",
       "    </tr>\n",
       "  </tbody>\n",
       "</table>\n",
       "</div>"
      ],
      "text/plain": [
       "  CHOICE  PRICE DESC   TYPE\n",
       "0    Nej      0  Nej  Dryck\n",
       "1     Ja     20   Ja  Dryck"
      ]
     },
     "execution_count": 4,
     "metadata": {},
     "output_type": "execute_result"
    },
    {
     "data": {
      "text/html": [
       "<div>\n",
       "<style scoped>\n",
       "    .dataframe tbody tr th:only-of-type {\n",
       "        vertical-align: middle;\n",
       "    }\n",
       "\n",
       "    .dataframe tbody tr th {\n",
       "        vertical-align: top;\n",
       "    }\n",
       "\n",
       "    .dataframe thead th {\n",
       "        text-align: right;\n",
       "    }\n",
       "</style>\n",
       "<table border=\"1\" class=\"dataframe\">\n",
       "  <thead>\n",
       "    <tr style=\"text-align: right;\">\n",
       "      <th></th>\n",
       "      <th>CHOICE</th>\n",
       "      <th>PRICE</th>\n",
       "      <th>DESC</th>\n",
       "      <th>TYPE</th>\n",
       "    </tr>\n",
       "  </thead>\n",
       "  <tbody>\n",
       "    <tr>\n",
       "      <th>0</th>\n",
       "      <td>Nej</td>\n",
       "      <td>0</td>\n",
       "      <td>Nej</td>\n",
       "      <td>Sås</td>\n",
       "    </tr>\n",
       "    <tr>\n",
       "      <th>1</th>\n",
       "      <td>Ja</td>\n",
       "      <td>15</td>\n",
       "      <td>Ja</td>\n",
       "      <td>Sås</td>\n",
       "    </tr>\n",
       "  </tbody>\n",
       "</table>\n",
       "</div>"
      ],
      "text/plain": [
       "  CHOICE  PRICE DESC TYPE\n",
       "0    Nej      0  Nej  Sås\n",
       "1     Ja     15   Ja  Sås"
      ]
     },
     "execution_count": 4,
     "metadata": {},
     "output_type": "execute_result"
    }
   ],
   "source": [
    "# List of addons\n",
    "Dryck = [('Nej', 0, 'Nej', 'Dryck'),\n",
    "            ('Ja', 20, 'Ja', 'Dryck'),]\n",
    "\n",
    "Sås = [('Nej', 0, 'Nej', 'Sås'), ('Ja', 15, 'Ja', 'Sås'),]\n",
    "\n",
    "d_obj = pd.DataFrame(Dryck, \n",
    "                      columns=['CHOICE', 'PRICE', 'DESC', 'TYPE'],\n",
    "                      index=None)\n",
    "\n",
    "d_obj\n",
    "# Create a DataFrame object\n",
    "s_obj = pd.DataFrame(Sås, \n",
    "                      columns=['CHOICE', 'PRICE', 'DESC', 'TYPE'],\n",
    "                      index=None)\n",
    "\n",
    "s_obj"
   ]
  },
  {
   "cell_type": "code",
   "execution_count": 5,
   "metadata": {},
   "outputs": [
    {
     "data": {
      "application/vnd.jupyter.widget-view+json": {
       "model_id": "b3b347c7e38a49918d72803ec1daf833",
       "version_major": 2,
       "version_minor": 0
      },
      "text/plain": [
       "RadioButtons(description='Dryck:', options=('Nej', 'Ja'), value=None)"
      ]
     },
     "metadata": {},
     "output_type": "display_data"
    },
    {
     "data": {
      "application/vnd.jupyter.widget-view+json": {
       "model_id": "4831602879d84623868a3fd121d0d752",
       "version_major": 2,
       "version_minor": 0
      },
      "text/plain": [
       "Output()"
      ]
     },
     "metadata": {},
     "output_type": "display_data"
    },
    {
     "data": {
      "application/vnd.jupyter.widget-view+json": {
       "model_id": "87a03eaa6a3b40dca0f2be34061a4fbb",
       "version_major": 2,
       "version_minor": 0
      },
      "text/plain": [
       "RadioButtons(description='Sås:', options=('Nej', 'Ja'), value=None)"
      ]
     },
     "metadata": {},
     "output_type": "display_data"
    },
    {
     "data": {
      "application/vnd.jupyter.widget-view+json": {
       "model_id": "00ac16c011f14ea6a2e87d6f64c611e3",
       "version_major": 2,
       "version_minor": 0
      },
      "text/plain": [
       "Output()"
      ]
     },
     "metadata": {},
     "output_type": "display_data"
    },
    {
     "name": "stdout",
     "output_type": "stream",
     "text": [
      "['Nej']\n",
      "[None]\n",
      "[None]\n",
      "['Ja']\n",
      "['Ja']\n",
      "['Ja']\n"
     ]
    }
   ],
   "source": [
    "d = drink_button = widgets.RadioButtons(\n",
    "    options=list(d_obj['DESC']), \n",
    "    value=None,\n",
    "    description='Dryck:',\n",
    "    disabled=False)\n",
    "output3 = widgets.Output()\n",
    "display(drink_button, output3)\n",
    "\n",
    "s = sauce_button = widgets.RadioButtons(\n",
    "    options=list(s_obj['DESC']), \n",
    "    value=None,\n",
    "    description='Sås:',\n",
    "    disabled=False)\n",
    "output4 = widgets.Output()\n",
    "display(sauce_button, output4)\n",
    "\n",
    "def what_traits_drink(value):\n",
    "    print([d.value])\n",
    "    get_index_of_drink = d_obj.loc[d_obj['DESC'] == d.value]\n",
    "    drink = get_index_of_drink['PRICE']\n",
    "    output3.clear_output()\n",
    "    with output3:\n",
    "        print('Pris i SEK: ' + str(drink))\n",
    "drink_button.observe(what_traits_drink, names = 'value')\n",
    "\n",
    "def what_traits_sauce(value):\n",
    "    print([s.value])\n",
    "    get_index_of_sauce = s_obj.loc[s_obj['DESC'] == s.value]\n",
    "    sauce = get_index_of_sauce['PRICE']\n",
    "    output4.clear_output()\n",
    "    with output4:\n",
    "        print('Pris i SEK: ' + str(sauce))\n",
    "sauce_button.observe(what_traits_sauce)"
   ]
  },
  {
   "cell_type": "code",
   "execution_count": 7,
   "metadata": {},
   "outputs": [
    {
     "data": {
      "application/vnd.jupyter.widget-view+json": {
       "model_id": "1cbfdae275234f0daeb8ffe30a929b2c",
       "version_major": 2,
       "version_minor": 0
      },
      "text/plain": [
       "RadioButtons(description='Dryck:', options=('Nej', 'Ja'), value=None)"
      ]
     },
     "metadata": {},
     "output_type": "display_data"
    },
    {
     "data": {
      "application/vnd.jupyter.widget-view+json": {
       "model_id": "9ccdce86ae54474cba0181ffcb50b260",
       "version_major": 2,
       "version_minor": 0
      },
      "text/plain": [
       "Output()"
      ]
     },
     "metadata": {},
     "output_type": "display_data"
    }
   ],
   "source": [
    "#Sample code for development and testing of prints for keys and values\n",
    "d = drink_button = widgets.RadioButtons(\n",
    "    options=list(d_obj['DESC']), \n",
    "    value=None,\n",
    "    description='Dryck:',\n",
    "    disabled=False)\n",
    "output3 = widgets.Output()\n",
    "display(drink_button, output3)\n",
    "\n",
    "def what_traits_drink(value):\n",
    "    print([d.value])\n",
    "    get_index_of_drink = d_obj.loc[d_obj['DESC'] == d.value]\n",
    "    drink = get_index_of_drink['PRICE']\n",
    "    output3.clear_output()\n",
    "    with output3:\n",
    "        print('Pris i SEK: ' + str(drink))\n",
    "        print(f\"{value.keys()} this is the output of all the keys\")\n",
    "        print(\"-------------\")\n",
    "        print(f\"{value.values()} this is the output of all the values\")\n",
    "        print(\"-------------\")\n",
    "drink_button.observe(what_traits_drink, names = 'value')"
   ]
  },
  {
   "cell_type": "code",
   "execution_count": 9,
   "metadata": {},
   "outputs": [
    {
     "data": {
      "application/vnd.jupyter.widget-view+json": {
       "model_id": "7dcb082adecc4199892d9ed7ab5711f0",
       "version_major": 2,
       "version_minor": 0
      },
      "text/plain": [
       "Dropdown(description='Label:', options=('MARGHERITA', 'VESUVIO', 'FUNGHI', 'BOLOGNES', 'GALINI', 'SALAMI', 'AL…"
      ]
     },
     "metadata": {},
     "output_type": "display_data"
    },
    {
     "data": {
      "application/vnd.jupyter.widget-view+json": {
       "model_id": "86536e698e0e436a9d7f93f25bb80770",
       "version_major": 2,
       "version_minor": 0
      },
      "text/plain": [
       "Button(description='Hämta kostnad', style=ButtonStyle())"
      ]
     },
     "metadata": {},
     "output_type": "display_data"
    },
    {
     "data": {
      "application/vnd.jupyter.widget-view+json": {
       "model_id": "fad249445528410e83c60d6b97c0a438",
       "version_major": 2,
       "version_minor": 0
      },
      "text/plain": [
       "Output()"
      ]
     },
     "metadata": {},
     "output_type": "display_data"
    }
   ],
   "source": [
    "pizza = None\n",
    "from ipywidgets import widgets\n",
    "from IPython.display import display, clear_output\n",
    "import pandas as pd\n",
    "\n",
    "def get_price(dataframe_index):\n",
    "    return df.loc[dataframe_index]\n",
    "\n",
    "def on_button_clicked(b):\n",
    "    global pizza\n",
    "\n",
    "    print([w.value])\n",
    "    get_index_of_pizza = df.index[df['NAME'] == w.value]\n",
    "    pizza = get_price(get_index_of_pizza)\n",
    "    \n",
    "    with output:\n",
    "        clear_output()\n",
    "        print(str(pizza))\n",
    "        \n",
    "w = widgets.Dropdown(options=list(df['NAME']), description = 'Label:')\n",
    "\n",
    "button = widgets.Button(description=\"Hämta kostnad\")\n",
    "output = widgets.Output()\n",
    "\n",
    "display(w)        \n",
    "display(button, output)\n",
    "button.on_click(on_button_clicked)"
   ]
  },
  {
   "cell_type": "code",
   "execution_count": 10,
   "metadata": {},
   "outputs": [
    {
     "data": {
      "application/vnd.jupyter.widget-view+json": {
       "model_id": "d42e0527ec92436f80c7104cca71fc37",
       "version_major": 2,
       "version_minor": 0
      },
      "text/plain": [
       "interactive(children=(Text(value='PRICE', description='column'), IntSlider(value=99, description='x', max=297,…"
      ]
     },
     "metadata": {},
     "output_type": "display_data"
    }
   ],
   "source": [
    "@interact\n",
    "def show_price(column='PRICE', x=99):\n",
    "    display(HTML(f'<h2>Showing Pizza lesser than {x}:-<h2>'))\n",
    "    display(df.loc[df[column] < x, ['NUMBER', 'NAME', 'CONTENT', 'PRICE']])"
   ]
  },
  {
   "cell_type": "code",
   "execution_count": 11,
   "metadata": {},
   "outputs": [
    {
     "data": {
      "application/vnd.jupyter.widget-view+json": {
       "model_id": "5323f274a54d400fb3ab750c13b5f17b",
       "version_major": 2,
       "version_minor": 0
      },
      "text/plain": [
       "Dropdown(description='Pizza:', options=(1, 2, 3, 4, 5, 6, 7, 8, 9, 10, 11, 12, 13, 14, 15, 16, 17, 18, 19, 20,…"
      ]
     },
     "metadata": {},
     "output_type": "display_data"
    },
    {
     "data": {
      "application/vnd.jupyter.widget-view+json": {
       "model_id": "6f06ab00c6f54aae8e08700ddd5d310d",
       "version_major": 2,
       "version_minor": 0
      },
      "text/plain": [
       "Button(description='Hämta kostnad', style=ButtonStyle())"
      ]
     },
     "metadata": {},
     "output_type": "display_data"
    },
    {
     "data": {
      "application/vnd.jupyter.widget-view+json": {
       "model_id": "f082f05c469f4be1af343c46e6592014",
       "version_major": 2,
       "version_minor": 0
      },
      "text/plain": [
       "Output()"
      ]
     },
     "metadata": {},
     "output_type": "display_data"
    }
   ],
   "source": [
    "pizza = None\n",
    "from ipywidgets import widgets\n",
    "from IPython.display import display, clear_output\n",
    "import pandas as pd\n",
    "\n",
    "def myfunc(price):\n",
    "    return df.loc[price]['PRICE']\n",
    "\n",
    "def on_button_clicked(b):\n",
    "    global pizza\n",
    "    pizza = myfunc(w.value)\n",
    "    with output:\n",
    "        clear_output()\n",
    "        print('Pris i SEK: ' + str(pizza))\n",
    "        \n",
    "w = widgets.Dropdown(options=df['NUMBER'], description = 'Pizza:')\n",
    "\n",
    "button = widgets.Button(description=\"Hämta kostnad\")\n",
    "output = widgets.Output()\n",
    "\n",
    "display(w)        \n",
    "display(button, output)\n",
    "button.on_click(on_button_clicked)"
   ]
  },
  {
   "cell_type": "code",
   "execution_count": 12,
   "metadata": {},
   "outputs": [
    {
     "data": {
      "application/vnd.jupyter.widget-view+json": {
       "model_id": "eca6d3a531fd4f13b13dab8b69266936",
       "version_major": 2,
       "version_minor": 0
      },
      "text/plain": [
       "Dropdown(description='Pizza:', options=('MARGHERITA', 'VESUVIO', 'FUNGHI', 'BOLOGNES', 'GALINI', 'SALAMI', 'AL…"
      ]
     },
     "metadata": {},
     "output_type": "display_data"
    },
    {
     "data": {
      "application/vnd.jupyter.widget-view+json": {
       "model_id": "c3a6875ad21645a1a711507274e73df5",
       "version_major": 2,
       "version_minor": 0
      },
      "text/plain": [
       "Dropdown(description='Tillbehör', options=('Läsk', 'bea', 'vitlök'), value='Läsk')"
      ]
     },
     "metadata": {},
     "output_type": "display_data"
    },
    {
     "data": {
      "application/vnd.jupyter.widget-view+json": {
       "model_id": "696b8c6d853c487c89d4f8bce749733a",
       "version_major": 2,
       "version_minor": 0
      },
      "text/plain": [
       "Output()"
      ]
     },
     "metadata": {},
     "output_type": "display_data"
    },
    {
     "data": {
      "application/vnd.jupyter.widget-view+json": {
       "model_id": "ffa2397704b14661801cb273e5dbc465",
       "version_major": 2,
       "version_minor": 0
      },
      "text/plain": [
       "Button(description='Hämta kostnad', style=ButtonStyle())"
      ]
     },
     "metadata": {},
     "output_type": "display_data"
    },
    {
     "name": "stdout",
     "output_type": "stream",
     "text": [
      "['Läsk']\n",
      "['MARGHERITA']\n"
     ]
    }
   ],
   "source": [
    "pizza = None\n",
    "addon = None\n",
    "from ipywidgets import widgets\n",
    "from IPython.display import display, clear_output\n",
    "import pandas as pd\n",
    "\n",
    "# List of addons\n",
    "tillbehör = [('Burk', 20, 'Läsk', 'Dryck'),\n",
    "            ('Bearnaisesås', 15, 'bea', 'Sås'),\n",
    "            ('Vitlöksås', 15, 'vitlök', 'Sås'),]\n",
    "\n",
    "# Create a DataFrame object\n",
    "ad_obj = pd.DataFrame(tillbehör,\n",
    "                      columns=['CHOICE', 'PRICE', 'DESC', 'TYPE'],\n",
    "                      index=None)\n",
    "\n",
    "def get_selection(selected_pizza):\n",
    "    global pizza\n",
    "    print([w.value])\n",
    "    get_index_of_pizza = df.loc[df['NAME'] == w.value]\n",
    "    pizza = get_index_of_pizza\n",
    "    with output:\n",
    "        clear_output()\n",
    "        print(str(pizza))\n",
    "\n",
    "def calc_sum(summary):\n",
    "    global pizza\n",
    "    global addon\n",
    "    print([a.value])\n",
    "    print([w.value])\n",
    "    get_index_of_addons = ad_obj.loc[ad_obj['DESC'] == a.value]\n",
    "    get_index_of_pizza = df.loc[df['NAME'] == w.value]\n",
    "    pizza = get_index_of_pizza['PRICE']\n",
    "    addon = get_index_of_addons['PRICE']\n",
    "    price = pd.concat([pizza, addon], axis=0)\n",
    "    with output:\n",
    "        clear_output()\n",
    "        print('Pris i SEK: ' + str(price.sum()))\n",
    "        \n",
    "a = widgets.Dropdown(options=list(ad_obj['DESC']), description = 'Tillbehör')\n",
    "w = widgets.Dropdown(options=list(df['NAME']), description = 'Pizza:')\n",
    "\n",
    "button = widgets.Button(description=\"Hämta kostnad\")\n",
    "output = widgets.Output()\n",
    "display(w, a, output, button)\n",
    "button.on_click(calc_sum)"
   ]
  },
  {
   "cell_type": "code",
   "execution_count": null,
   "metadata": {},
   "outputs": [],
   "source": []
  }
 ],
 "metadata": {
  "kernelspec": {
   "display_name": "Python 3",
   "language": "python",
   "name": "python3"
  },
  "language_info": {
   "codemirror_mode": {
    "name": "ipython",
    "version": 3
   },
   "file_extension": ".py",
   "mimetype": "text/x-python",
   "name": "python",
   "nbconvert_exporter": "python",
   "pygments_lexer": "ipython3",
   "version": "3.8.3"
  }
 },
 "nbformat": 4,
 "nbformat_minor": 4
}
