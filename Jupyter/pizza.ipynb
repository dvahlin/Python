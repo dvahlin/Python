{
 "cells": [
  {
   "cell_type": "code",
   "execution_count": 285,
   "metadata": {},
   "outputs": [],
   "source": [
    "import pandas as pd\n",
    "import numpy as np"
   ]
  },
  {
   "cell_type": "code",
   "execution_count": 286,
   "metadata": {},
   "outputs": [],
   "source": [
    "csv_file = '/root/menu.csv'"
   ]
  },
  {
   "cell_type": "code",
   "execution_count": 287,
   "metadata": {},
   "outputs": [],
   "source": [
    "df = pd.read_csv(csv_file, sep='\\t', header=0)"
   ]
  },
  {
   "cell_type": "code",
   "execution_count": 288,
   "metadata": {},
   "outputs": [
    {
     "data": {
      "text/plain": [
       "NUMBER      int64\n",
       "TYPE       object\n",
       "NAME       object\n",
       "CONTENT    object\n",
       "PRICE       int64\n",
       "dtype: object"
      ]
     },
     "execution_count": 288,
     "metadata": {},
     "output_type": "execute_result"
    }
   ],
   "source": [
    "df.dtypes"
   ]
  },
  {
   "cell_type": "code",
   "execution_count": 289,
   "metadata": {},
   "outputs": [
    {
     "name": "stdout",
     "output_type": "stream",
     "text": [
      "<class 'pandas.core.frame.DataFrame'>\n",
      "RangeIndex: 90 entries, 0 to 89\n",
      "Data columns (total 5 columns):\n",
      " #   Column   Non-Null Count  Dtype \n",
      "---  ------   --------------  ----- \n",
      " 0   NUMBER   90 non-null     int64 \n",
      " 1   TYPE     90 non-null     object\n",
      " 2   NAME     90 non-null     object\n",
      " 3   CONTENT  90 non-null     object\n",
      " 4   PRICE    90 non-null     int64 \n",
      "dtypes: int64(2), object(3)\n",
      "memory usage: 3.6+ KB\n"
     ]
    }
   ],
   "source": [
    "df.info()"
   ]
  },
  {
   "cell_type": "code",
   "execution_count": 290,
   "metadata": {},
   "outputs": [
    {
     "data": {
      "text/html": [
       "<div>\n",
       "<style scoped>\n",
       "    .dataframe tbody tr th:only-of-type {\n",
       "        vertical-align: middle;\n",
       "    }\n",
       "\n",
       "    .dataframe tbody tr th {\n",
       "        vertical-align: top;\n",
       "    }\n",
       "\n",
       "    .dataframe thead th {\n",
       "        text-align: right;\n",
       "    }\n",
       "</style>\n",
       "<table border=\"1\" class=\"dataframe\">\n",
       "  <thead>\n",
       "    <tr style=\"text-align: right;\">\n",
       "      <th></th>\n",
       "      <th>TYPE</th>\n",
       "      <th>NAME</th>\n",
       "      <th>CONTENT</th>\n",
       "    </tr>\n",
       "  </thead>\n",
       "  <tbody>\n",
       "    <tr>\n",
       "      <th>0</th>\n",
       "      <td>Prisklass 1</td>\n",
       "      <td>MARGHERITA</td>\n",
       "      <td>tomatsås, ost</td>\n",
       "    </tr>\n",
       "    <tr>\n",
       "      <th>1</th>\n",
       "      <td>Prisklass 1</td>\n",
       "      <td>VESUVIO</td>\n",
       "      <td>tomatsås, ost, skinka</td>\n",
       "    </tr>\n",
       "    <tr>\n",
       "      <th>2</th>\n",
       "      <td>Prisklass 1</td>\n",
       "      <td>FUNGHI</td>\n",
       "      <td>tomatsås, ost, färska champinjoner</td>\n",
       "    </tr>\n",
       "    <tr>\n",
       "      <th>3</th>\n",
       "      <td>Prisklass 1</td>\n",
       "      <td>BOLOGNES</td>\n",
       "      <td>tomatsås, ost, köttfärssås, lök</td>\n",
       "    </tr>\n",
       "    <tr>\n",
       "      <th>4</th>\n",
       "      <td>Prisklass 1</td>\n",
       "      <td>GALINI</td>\n",
       "      <td>tomatsås, ost, räkor, f. vitlök, persilja</td>\n",
       "    </tr>\n",
       "  </tbody>\n",
       "</table>\n",
       "</div>"
      ],
      "text/plain": [
       "          TYPE        NAME                                    CONTENT\n",
       "0  Prisklass 1  MARGHERITA                              tomatsås, ost\n",
       "1  Prisklass 1     VESUVIO                      tomatsås, ost, skinka\n",
       "2  Prisklass 1      FUNGHI         tomatsås, ost, färska champinjoner\n",
       "3  Prisklass 1    BOLOGNES            tomatsås, ost, köttfärssås, lök\n",
       "4  Prisklass 1      GALINI  tomatsås, ost, räkor, f. vitlök, persilja"
      ]
     },
     "execution_count": 290,
     "metadata": {},
     "output_type": "execute_result"
    }
   ],
   "source": [
    "df.select_dtypes(include='object').head()"
   ]
  },
  {
   "cell_type": "code",
   "execution_count": 291,
   "metadata": {
    "scrolled": true
   },
   "outputs": [
    {
     "data": {
      "text/plain": [
       "array(['MARGHERITA', 'VESUVIO', 'FUNGHI', 'BOLOGNES', 'GALINI', 'SALAMI',\n",
       "       'AL TONO', 'BUSSOLA', 'CAPRICCIOSA', 'HAWAII', 'SUSANNAS',\n",
       "       'MARINARA', 'NAPOLITANA', 'DEL OPERA', 'POMPEI', 'TROPICANA',\n",
       "       'JOHANNAS SPECIAL', 'VASA SPECIAL', 'VEGETARIANA', 'GORGONZOLA',\n",
       "       'LILLA PICASSO', 'ANATOLIA', 'HAZAL (stark)',\n",
       "       'RIVIERA (gratinerad)', 'PRINCESSA', 'FRUTTI DEL MARE', 'TORGET',\n",
       "       'MÄSTARENS', 'RHODOS', 'KRETA (stark)', 'MEXICANA (stark)',\n",
       "       'MAKAS', 'RENOME', 'SIDE', 'AMORE', 'GRÖN', 'DILAN SPECIAL',\n",
       "       'BAGARENS', 'FORMAGGI', 'KYCKLING PIZZA', 'QUATTRO STAGIONI',\n",
       "       'SOLE MIO', 'MARMARIS', 'JESSICA SPECIAL', 'MAMMA ROSA',\n",
       "       'VALLENTINA SPECIAL', 'PAESANA SPECIAL', 'OLOFSLUND', 'SALAMINO',\n",
       "       'CRUDO', 'SLOTT (stark)', 'SCAMPI', 'MEZZA LUNA', 'SPENAT PIZZA',\n",
       "       'ROMA', 'CIAO CIAO', 'ELENA ́S PIZZA', 'ZOLA', 'POKER (stark)',\n",
       "       'MILANO', 'CAPRICCIOSA SUPER', 'DELICATES', 'NAXOS', 'SANTA MARIA',\n",
       "       'AZTEKA', 'AMIGO', 'ACAPULCO', 'DEN ONDE', 'TACO', 'CALZONE',\n",
       "       'ALEX SPECIAL (stark)', 'CALZONE CAPRI',\n",
       "       'FLYGANDE TEFAT (dubbelinbakad)', 'GLOBEN (dubbelinbakad)',\n",
       "       'NOCKEBY SPECIAL', 'AMADEUS', 'TONYS SPECIAL', 'UBÅT',\n",
       "       'KEBABPIZZA 1', 'KEBABPIZZA 2', 'KEBABPIZZA 3', 'KEBABPIZZA 4',\n",
       "       'GYROS PIZZA 5', 'KYCKLING KEBABPIZZA', 'VIKING KEBAB BÅT', 'AIK',\n",
       "       'AJAX', 'HAMMARBY', 'DJURGÅRDEN', 'BP PIZZA'], dtype=object)"
      ]
     },
     "execution_count": 291,
     "metadata": {},
     "output_type": "execute_result"
    }
   ],
   "source": [
    "df.NAME.unique()"
   ]
  },
  {
   "cell_type": "code",
   "execution_count": 292,
   "metadata": {},
   "outputs": [],
   "source": [
    "# Standard pandas numpy\n",
    "import numpy as np\n",
    "import pandas as pd\n",
    "import scipy\n",
    "\n",
    "# Show all code cells outputs\n",
    "from IPython.core.interactiveshell import InteractiveShell\n",
    "InteractiveShell.ast_node_interactivity = 'all'"
   ]
  },
  {
   "cell_type": "code",
   "execution_count": 293,
   "metadata": {},
   "outputs": [],
   "source": [
    "import ipywidgets as widgets\n",
    "from ipywidgets import interact, interact_manual\n",
    "from IPython.display import Image, display, HTML"
   ]
  },
  {
   "cell_type": "code",
   "execution_count": 294,
   "metadata": {},
   "outputs": [
    {
     "data": {
      "application/vnd.jupyter.widget-view+json": {
       "model_id": "e96d63e155bb40d9ac5c5dfeb4baa376",
       "version_major": 2,
       "version_minor": 0
      },
      "text/plain": [
       "interactive(children=(Text(value='PRICE', description='column'), IntSlider(value=99, description='x', max=297,…"
      ]
     },
     "metadata": {},
     "output_type": "display_data"
    }
   ],
   "source": [
    "@interact\n",
    "def show_price(column='PRICE', x=99):\n",
    "    display(HTML(f'<h2>Showing Pizza lesser than {x}:-<h2>'))\n",
    "    display(df.loc[df[column] < x, ['NUMBER', 'NAME', 'CONTENT', 'PRICE']])"
   ]
  },
  {
   "cell_type": "code",
   "execution_count": 295,
   "metadata": {
    "scrolled": true
   },
   "outputs": [
    {
     "data": {
      "application/vnd.jupyter.widget-view+json": {
       "model_id": "1013cd8ca44a45b6be6de1f4340cb3a3",
       "version_major": 2,
       "version_minor": 0
      },
      "text/plain": [
       "Dropdown(description='Label:', options=('MARGHERITA', 'VESUVIO', 'FUNGHI', 'BOLOGNES', 'GALINI', 'SALAMI', 'AL…"
      ]
     },
     "metadata": {},
     "output_type": "display_data"
    },
    {
     "data": {
      "application/vnd.jupyter.widget-view+json": {
       "model_id": "62d9e1748949451c843e9c5c1ac3225c",
       "version_major": 2,
       "version_minor": 0
      },
      "text/plain": [
       "Button(description='Hämta kostnad', style=ButtonStyle())"
      ]
     },
     "metadata": {},
     "output_type": "display_data"
    },
    {
     "data": {
      "application/vnd.jupyter.widget-view+json": {
       "model_id": "8e694ca63e464169a24a7846456cb289",
       "version_major": 2,
       "version_minor": 0
      },
      "text/plain": [
       "Output()"
      ]
     },
     "metadata": {},
     "output_type": "display_data"
    },
    {
     "name": "stdout",
     "output_type": "stream",
     "text": [
      "['VEGETARIANA']\n"
     ]
    }
   ],
   "source": [
    "pizza = None\n",
    "from ipywidgets import widgets\n",
    "from IPython.display import display, clear_output\n",
    "import pandas as pd\n",
    "\n",
    "def get_price(dataframe_index):\n",
    "    return df.loc[dataframe_index]\n",
    "\n",
    "def on_button_clicked(b):\n",
    "    global pizza\n",
    "\n",
    "    print([w.value])\n",
    "    get_index_of_pizza = df.index[df['NAME'] == w.value]\n",
    "    pizza = get_price(get_index_of_pizza)\n",
    "    \n",
    "    with output:\n",
    "        clear_output()\n",
    "        print(str(pizza))\n",
    "        \n",
    "w = widgets.Dropdown(options=list(df['NAME']), description = 'Label:')\n",
    "\n",
    "button = widgets.Button(description=\"Hämta kostnad\")\n",
    "output = widgets.Output()\n",
    "\n",
    "display(w)        \n",
    "display(button, output)\n",
    "button.on_click(on_button_clicked)"
   ]
  },
  {
   "cell_type": "code",
   "execution_count": 296,
   "metadata": {},
   "outputs": [
    {
     "data": {
      "application/vnd.jupyter.widget-view+json": {
       "model_id": "980178b3a13644ea9900ec94066f3a80",
       "version_major": 2,
       "version_minor": 0
      },
      "text/plain": [
       "Dropdown(description='Pizza:', options=(1, 2, 3, 4, 5, 6, 7, 8, 9, 10, 11, 12, 13, 14, 15, 16, 17, 18, 19, 20,…"
      ]
     },
     "metadata": {},
     "output_type": "display_data"
    },
    {
     "data": {
      "application/vnd.jupyter.widget-view+json": {
       "model_id": "3cc5f70994e14072a504020f710b5379",
       "version_major": 2,
       "version_minor": 0
      },
      "text/plain": [
       "Button(description='Hämta kostnad', style=ButtonStyle())"
      ]
     },
     "metadata": {},
     "output_type": "display_data"
    },
    {
     "data": {
      "application/vnd.jupyter.widget-view+json": {
       "model_id": "f3b597bbfb024393a94b2559856f0c95",
       "version_major": 2,
       "version_minor": 0
      },
      "text/plain": [
       "Output()"
      ]
     },
     "metadata": {},
     "output_type": "display_data"
    }
   ],
   "source": [
    "pizza = None\n",
    "from ipywidgets import widgets\n",
    "from IPython.display import display, clear_output\n",
    "import pandas as pd\n",
    "\n",
    "def myfunc(price):\n",
    "    return df.loc[price]['PRICE']\n",
    "\n",
    "def on_button_clicked(b):\n",
    "    global pizza\n",
    "    pizza = myfunc(w.value)\n",
    "    with output:\n",
    "        clear_output()\n",
    "        print('Pris i SEK: ' + str(pizza))\n",
    "        \n",
    "w = widgets.Dropdown(options=df['NUMBER'], description = 'Pizza:')\n",
    "\n",
    "button = widgets.Button(description=\"Hämta kostnad\")\n",
    "output = widgets.Output()\n",
    "\n",
    "display(w)        \n",
    "display(button, output)\n",
    "button.on_click(on_button_clicked)"
   ]
  },
  {
   "cell_type": "code",
   "execution_count": 297,
   "metadata": {},
   "outputs": [
    {
     "data": {
      "application/vnd.jupyter.widget-view+json": {
       "model_id": "ce7ffaccc28f4288a4812a34257298a3",
       "version_major": 2,
       "version_minor": 0
      },
      "text/plain": [
       "Output()"
      ]
     },
     "metadata": {},
     "output_type": "display_data"
    },
    {
     "data": {
      "application/vnd.jupyter.widget-view+json": {
       "model_id": "6ed935c7d10c4ccea13294256cea0579",
       "version_major": 2,
       "version_minor": 0
      },
      "text/plain": [
       "Text(value='', description='Pizza:')"
      ]
     },
     "metadata": {},
     "output_type": "display_data"
    }
   ],
   "source": [
    "import pandas as pd, IPython.display, ipywidgets as widgets \n",
    "out = widgets.Output()\n",
    "display(out)\n",
    "\n",
    "textbox = widgets.Text(value='', description='Pizza:')\n",
    "display(textbox)\n",
    "\n",
    "def display_result(value):\n",
    "    value = str(value['new']).upper() \n",
    "    if \"{\" not in value:\n",
    "        result = df[(df['NAME'].str.contains(value))]  \n",
    "        out.clear_output()\n",
    "        if result.shape[0]>0:\n",
    "            with out:\n",
    "                display(result)\n",
    "\n",
    "\n",
    "textbox.observe(display_result)"
   ]
  },
  {
   "cell_type": "code",
   "execution_count": 298,
   "metadata": {},
   "outputs": [
    {
     "data": {
      "application/vnd.jupyter.widget-view+json": {
       "model_id": "9b1bcad444774f819553097b270cf984",
       "version_major": 2,
       "version_minor": 0
      },
      "text/plain": [
       "Output()"
      ]
     },
     "metadata": {},
     "output_type": "display_data"
    },
    {
     "data": {
      "application/vnd.jupyter.widget-view+json": {
       "model_id": "240d1b350bf14be4a1c90f1813cb47ff",
       "version_major": 2,
       "version_minor": 0
      },
      "text/plain": [
       "Text(value='', description='Innehåll:')"
      ]
     },
     "metadata": {},
     "output_type": "display_data"
    }
   ],
   "source": [
    "import pandas as pd, IPython.display, ipywidgets as widgets \n",
    "out = widgets.Output()\n",
    "display(out)\n",
    "\n",
    "textbox = widgets.Text(value='', description='Innehåll:')\n",
    "display(textbox)\n",
    "\n",
    "def display_result(value):\n",
    "    value = str(value['new']).lower() \n",
    "    if \"{\" not in value:\n",
    "        result = df[(df['CONTENT'].str.contains(value))]  \n",
    "        out.clear_output()\n",
    "        if result.shape[0]>0:\n",
    "            with out:\n",
    "                display(result)\n",
    "\n",
    "\n",
    "textbox.observe(display_result)"
   ]
  },
  {
   "cell_type": "code",
   "execution_count": 299,
   "metadata": {},
   "outputs": [
    {
     "data": {
      "application/vnd.jupyter.widget-view+json": {
       "model_id": "cb619745eb564acabc0b39cfd99e530d",
       "version_major": 2,
       "version_minor": 0
      },
      "text/plain": [
       "Dropdown(description='Pizza:', options=('ALL', 99, 104, 109, 114, 119), value='ALL')"
      ]
     },
     "metadata": {},
     "output_type": "display_data"
    }
   ],
   "source": [
    "ALL = 'ALL'\n",
    "\n",
    "def unique_prices_ALL(array):\n",
    "    unique = array.unique().tolist()\n",
    "    unique.sort()\n",
    "    unique.insert(0, ALL)\n",
    "    return unique\n",
    "\n",
    "dropdown_pizza = widgets.Dropdown(options= unique_prices_ALL(df['PRICE']), description = 'Pizza:')\n",
    "\n",
    "def dropdown_pizza_handler(change):\n",
    "    if (change.new == ALL):\n",
    "        display(df)\n",
    "    else:\n",
    "        display(df.loc[df['PRICE'] == change.new])\n",
    "    with output:\n",
    "        clear_output()\n",
    "          \n",
    "        \n",
    "dropdown_pizza.observe(dropdown_pizza_handler, names='value')\n",
    "\n",
    "display(dropdown_pizza)\n"
   ]
  },
  {
   "cell_type": "code",
   "execution_count": 301,
   "metadata": {
    "scrolled": true
   },
   "outputs": [
    {
     "data": {
      "text/html": [
       "<div>\n",
       "<style scoped>\n",
       "    .dataframe tbody tr th:only-of-type {\n",
       "        vertical-align: middle;\n",
       "    }\n",
       "\n",
       "    .dataframe tbody tr th {\n",
       "        vertical-align: top;\n",
       "    }\n",
       "\n",
       "    .dataframe thead th {\n",
       "        text-align: right;\n",
       "    }\n",
       "</style>\n",
       "<table border=\"1\" class=\"dataframe\">\n",
       "  <thead>\n",
       "    <tr style=\"text-align: right;\">\n",
       "      <th></th>\n",
       "      <th>CHOICE</th>\n",
       "      <th>PRICE</th>\n",
       "      <th>DESC</th>\n",
       "      <th>TYPE</th>\n",
       "    </tr>\n",
       "  </thead>\n",
       "  <tbody>\n",
       "    <tr>\n",
       "      <th>0</th>\n",
       "      <td>Burk</td>\n",
       "      <td>20</td>\n",
       "      <td>Läsk</td>\n",
       "      <td>Dryck</td>\n",
       "    </tr>\n",
       "    <tr>\n",
       "      <th>1</th>\n",
       "      <td>Bearnaisesås</td>\n",
       "      <td>15</td>\n",
       "      <td>bea</td>\n",
       "      <td>Sås</td>\n",
       "    </tr>\n",
       "    <tr>\n",
       "      <th>2</th>\n",
       "      <td>Vitlöksås</td>\n",
       "      <td>15</td>\n",
       "      <td>vitlök</td>\n",
       "      <td>Sås</td>\n",
       "    </tr>\n",
       "  </tbody>\n",
       "</table>\n",
       "</div>"
      ],
      "text/plain": [
       "         CHOICE  PRICE    DESC   TYPE\n",
       "0          Burk     20    Läsk  Dryck\n",
       "1  Bearnaisesås     15     bea    Sås\n",
       "2     Vitlöksås     15  vitlök    Sås"
      ]
     },
     "execution_count": 301,
     "metadata": {},
     "output_type": "execute_result"
    }
   ],
   "source": [
    "# List of addons\n",
    "tillbehör = [('Burk', 20, 'Läsk', 'Dryck'),\n",
    "            ('Bearnaisesås', 15, 'bea', 'Sås'),\n",
    "            ('Vitlöksås', 15, 'vitlök', 'Sås'),]\n",
    "\n",
    "# Create a DataFrame object\n",
    "ad_obj = pd.DataFrame(tillbehör,\n",
    "                      columns=['CHOICE', 'PRICE', 'DESC', 'TYPE'],\n",
    "                      index=None)\n",
    "\n",
    "ad_obj"
   ]
  },
  {
   "cell_type": "code",
   "execution_count": 302,
   "metadata": {
    "scrolled": true
   },
   "outputs": [
    {
     "data": {
      "application/vnd.jupyter.widget-view+json": {
       "model_id": "d953c943f0284ed38c3e8e68c7c834cf",
       "version_major": 2,
       "version_minor": 0
      },
      "text/plain": [
       "Dropdown(description='Pizza:', options=('MARGHERITA', 'VESUVIO', 'FUNGHI', 'BOLOGNES', 'GALINI', 'SALAMI', 'AL…"
      ]
     },
     "metadata": {},
     "output_type": "display_data"
    },
    {
     "data": {
      "application/vnd.jupyter.widget-view+json": {
       "model_id": "c3689d7145e34fe48fe19fdd479d2f32",
       "version_major": 2,
       "version_minor": 0
      },
      "text/plain": [
       "Dropdown(description='Tillbehör', options=('Läsk', 'bea', 'vitlök'), value='Läsk')"
      ]
     },
     "metadata": {},
     "output_type": "display_data"
    },
    {
     "data": {
      "application/vnd.jupyter.widget-view+json": {
       "model_id": "744530d793ea4fdf8257a629c70e6289",
       "version_major": 2,
       "version_minor": 0
      },
      "text/plain": [
       "Output()"
      ]
     },
     "metadata": {},
     "output_type": "display_data"
    },
    {
     "data": {
      "application/vnd.jupyter.widget-view+json": {
       "model_id": "7eff7c18d2eb49418e489654fa2833b4",
       "version_major": 2,
       "version_minor": 0
      },
      "text/plain": [
       "Button(description='Hämta kostnad', style=ButtonStyle())"
      ]
     },
     "metadata": {},
     "output_type": "display_data"
    },
    {
     "name": "stdout",
     "output_type": "stream",
     "text": [
      "['vitlök']\n",
      "['CAPRICCIOSA']\n"
     ]
    }
   ],
   "source": [
    "pizza = None\n",
    "addon = None\n",
    "from ipywidgets import widgets\n",
    "from IPython.display import display, clear_output\n",
    "import pandas as pd\n",
    "\n",
    "# List of addons\n",
    "tillbehör = [('Burk', 20, 'Läsk', 'Dryck'),\n",
    "            ('Bearnaisesås', 15, 'bea', 'Sås'),\n",
    "            ('Vitlöksås', 15, 'vitlök', 'Sås'),]\n",
    "\n",
    "# Create a DataFrame object\n",
    "ad_obj = pd.DataFrame(tillbehör,\n",
    "                      columns=['CHOICE', 'PRICE', 'DESC', 'TYPE'],\n",
    "                      index=None)\n",
    "\n",
    "def get_selection(selected_pizza):\n",
    "    global pizza\n",
    "    print([w.value])\n",
    "    get_index_of_pizza = df.loc[df['NAME'] == w.value]\n",
    "    pizza = get_index_of_pizza\n",
    "    with output:\n",
    "        clear_output()\n",
    "        print(str(pizza))\n",
    "\n",
    "def calc_sum(summary):\n",
    "    global pizza\n",
    "    global addon\n",
    "    print([a.value])\n",
    "    print([w.value])\n",
    "    get_index_of_addons = ad_obj.loc[ad_obj['DESC'] == a.value]\n",
    "    get_index_of_pizza = df.loc[df['NAME'] == w.value]\n",
    "    pizza = get_index_of_pizza['PRICE']\n",
    "    addon = get_index_of_addons['PRICE']\n",
    "    price = pd.concat([pizza, addon], axis=0)\n",
    "    with output:\n",
    "        clear_output()\n",
    "        print('Pris i SEK: ' + str(price.sum()))\n",
    "        \n",
    "a = widgets.Dropdown(options=list(ad_obj['DESC']), description = 'Tillbehör')\n",
    "w = widgets.Dropdown(options=list(df['NAME']), description = 'Pizza:')\n",
    "\n",
    "button = widgets.Button(description=\"Hämta kostnad\")\n",
    "output = widgets.Output()\n",
    "display(w, a, output, button)\n",
    "button.on_click(calc_sum)"
   ]
  },
  {
   "cell_type": "code",
   "execution_count": 283,
   "metadata": {},
   "outputs": [
    {
     "data": {
      "text/plain": [
       "<bound method Series.sum of 31    109\n",
       "Name: PRICE, dtype: int64>"
      ]
     },
     "execution_count": 283,
     "metadata": {},
     "output_type": "execute_result"
    },
    {
     "data": {
      "text/plain": [
       "31    109\n",
       "Name: PRICE, dtype: int64"
      ]
     },
     "execution_count": 283,
     "metadata": {},
     "output_type": "execute_result"
    },
    {
     "data": {
      "text/plain": [
       "124"
      ]
     },
     "execution_count": 283,
     "metadata": {},
     "output_type": "execute_result"
    }
   ],
   "source": [
    "get_index_of_addons = ad_obj.loc[ad_obj['DESC'] == a.value]\n",
    "get_index_of_pizza = df.loc[df['NAME'] == w.value]\n",
    "pizza = get_index_of_pizza['PRICE']\n",
    "addon = get_index_of_addons['PRICE']\n",
    "price = pd.concat([pizza, addon], axis=0)\n",
    "pizza.sum\n",
    "pizza\n",
    "price.sum()"
   ]
  },
  {
   "cell_type": "code",
   "execution_count": 312,
   "metadata": {},
   "outputs": [
    {
     "data": {
      "application/vnd.jupyter.widget-view+json": {
       "model_id": "86316ce0fa9046449cb23f9f45a07c87",
       "version_major": 2,
       "version_minor": 0
      },
      "text/plain": [
       "Box(children=(Label(value='Dryck:'), RadioButtons(layout=Layout(width='max-content'), options=('pepperoni', 'p…"
      ]
     },
     "metadata": {},
     "output_type": "display_data"
    },
    {
     "data": {
      "application/vnd.jupyter.widget-view+json": {
       "model_id": "01870191d1764ecfa4a72f022d10c133",
       "version_major": 2,
       "version_minor": 0
      },
      "text/plain": [
       "Box(children=(Label(value='Tillbehör:'), RadioButtons(layout=Layout(width='max-content'), options=('Läsk', 'be…"
      ]
     },
     "metadata": {},
     "output_type": "display_data"
    }
   ],
   "source": [
    "widgets.Box(\n",
    "    [\n",
    "        widgets.Label(value='Dryck:'),\n",
    "        widgets.RadioButtons(\n",
    "            options=[\n",
    "                'pepperoni',\n",
    "                'pineapple',\n",
    "                'anchovies',\n",
    "                'test '\n",
    "            ],\n",
    "            layout={'width': 'max-content'}\n",
    "        )\n",
    "    ]\n",
    ")\n",
    "\n",
    "\n",
    "widgets.Box(\n",
    "    [\n",
    "        widgets.Label(value='Tillbehör:'),\n",
    "        widgets.RadioButtons(\n",
    "            options=list(ad_obj['DESC']),\n",
    "            layout={'width': 'max-content'}\n",
    "        )\n",
    "    ]\n",
    ")\n",
    "\n"
   ]
  },
  {
   "cell_type": "code",
   "execution_count": null,
   "metadata": {},
   "outputs": [],
   "source": []
  }
 ],
 "metadata": {
  "kernelspec": {
   "display_name": "Python 3",
   "language": "python",
   "name": "python3"
  },
  "language_info": {
   "codemirror_mode": {
    "name": "ipython",
    "version": 3
   },
   "file_extension": ".py",
   "mimetype": "text/x-python",
   "name": "python",
   "nbconvert_exporter": "python",
   "pygments_lexer": "ipython3",
   "version": "3.8.3"
  }
 },
 "nbformat": 4,
 "nbformat_minor": 4
}
