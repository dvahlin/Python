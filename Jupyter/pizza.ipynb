{
 "cells": [
  {
   "cell_type": "code",
   "execution_count": 466,
   "metadata": {},
   "outputs": [],
   "source": [
    "# Standard pandas numpy\n",
    "import numpy as np\n",
    "import pandas as pd\n",
    "import scipy\n",
    "import ipywidgets as widgets\n",
    "from ipywidgets import interact, interact_manual\n",
    "from IPython.display import Image, display, HTML\n",
    "# Show all code cells outputs\n",
    "from IPython.core.interactiveshell import InteractiveShell\n",
    "InteractiveShell.ast_node_interactivity = 'all'"
   ]
  },
  {
   "cell_type": "code",
   "execution_count": 467,
   "metadata": {},
   "outputs": [],
   "source": [
    "csv_file = '/root/menu.csv'"
   ]
  },
  {
   "cell_type": "code",
   "execution_count": 468,
   "metadata": {},
   "outputs": [],
   "source": [
    "df = pd.read_csv(csv_file, sep='\\t', header=0)"
   ]
  },
  {
   "cell_type": "code",
   "execution_count": 469,
   "metadata": {},
   "outputs": [
    {
     "data": {
      "application/vnd.jupyter.widget-view+json": {
       "model_id": "ddc8e0461fe54e0a8e1617c0dafffd13",
       "version_major": 2,
       "version_minor": 0
      },
      "text/plain": [
       "Output()"
      ]
     },
     "metadata": {},
     "output_type": "display_data"
    },
    {
     "data": {
      "application/vnd.jupyter.widget-view+json": {
       "model_id": "38564bb3e413463b8b21f05aa676f69b",
       "version_major": 2,
       "version_minor": 0
      },
      "text/plain": [
       "Text(value='', description='Pizza:')"
      ]
     },
     "metadata": {},
     "output_type": "display_data"
    }
   ],
   "source": [
    "# Search on name of pizza\n",
    "out = widgets.Output()\n",
    "display(out)\n",
    "\n",
    "textbox = widgets.Text(value='', description='Pizza:')\n",
    "display(textbox)\n",
    "\n",
    "def display_result(value):\n",
    "    value = str(value['new']).upper() \n",
    "    if \"{\" not in value:\n",
    "        result = df[(df['NAME'].str.contains(value))]  \n",
    "        out.clear_output()\n",
    "        if result.shape[0]>0:\n",
    "            with out:\n",
    "                display(result)\n",
    "\n",
    "\n",
    "textbox.observe(display_result)"
   ]
  },
  {
   "cell_type": "code",
   "execution_count": 470,
   "metadata": {
    "scrolled": true
   },
   "outputs": [
    {
     "data": {
      "application/vnd.jupyter.widget-view+json": {
       "model_id": "c644355fcf5a4a0d95ae539e583a8ed0",
       "version_major": 2,
       "version_minor": 0
      },
      "text/plain": [
       "Output()"
      ]
     },
     "metadata": {},
     "output_type": "display_data"
    },
    {
     "data": {
      "application/vnd.jupyter.widget-view+json": {
       "model_id": "94ec498c5bc641cfb74858bd09edba30",
       "version_major": 2,
       "version_minor": 0
      },
      "text/plain": [
       "Text(value='', description='Innehåll:')"
      ]
     },
     "metadata": {},
     "output_type": "display_data"
    }
   ],
   "source": [
    "# Search for content on pizza to find your flavour\n",
    "import pandas as pd, IPython.display, ipywidgets as widgets \n",
    "out = widgets.Output()\n",
    "display(out)\n",
    "\n",
    "textbox = widgets.Text(value='', description='Innehåll:')\n",
    "display(textbox)\n",
    "\n",
    "def display_result(value):\n",
    "    value = str(value['new']).lower() \n",
    "    if \"{\" not in value:\n",
    "        result = df[(df['CONTENT'].str.contains(value))]  \n",
    "        out.clear_output()\n",
    "        if result.shape[0]>0:\n",
    "            with out:\n",
    "                display(result)\n",
    "\n",
    "\n",
    "textbox.observe(display_result)"
   ]
  },
  {
   "cell_type": "code",
   "execution_count": 471,
   "metadata": {},
   "outputs": [
    {
     "data": {
      "application/vnd.jupyter.widget-view+json": {
       "model_id": "aae3baacd5f44fa9945a602cb0f3ce74",
       "version_major": 2,
       "version_minor": 0
      },
      "text/plain": [
       "Dropdown(description='Pizza:', options=('ALL', 99, 104, 109, 114, 119), value='ALL')"
      ]
     },
     "metadata": {},
     "output_type": "display_data"
    },
    {
     "data": {
      "text/html": [
       "<div>\n",
       "<style scoped>\n",
       "    .dataframe tbody tr th:only-of-type {\n",
       "        vertical-align: middle;\n",
       "    }\n",
       "\n",
       "    .dataframe tbody tr th {\n",
       "        vertical-align: top;\n",
       "    }\n",
       "\n",
       "    .dataframe thead th {\n",
       "        text-align: right;\n",
       "    }\n",
       "</style>\n",
       "<table border=\"1\" class=\"dataframe\">\n",
       "  <thead>\n",
       "    <tr style=\"text-align: right;\">\n",
       "      <th></th>\n",
       "      <th>NUMBER</th>\n",
       "      <th>TYPE</th>\n",
       "      <th>NAME</th>\n",
       "      <th>CONTENT</th>\n",
       "      <th>PRICE</th>\n",
       "    </tr>\n",
       "  </thead>\n",
       "  <tbody>\n",
       "    <tr>\n",
       "      <th>0</th>\n",
       "      <td>1</td>\n",
       "      <td>Prisklass 1</td>\n",
       "      <td>MARGHERITA</td>\n",
       "      <td>tomatsås, ost</td>\n",
       "      <td>99</td>\n",
       "    </tr>\n",
       "    <tr>\n",
       "      <th>1</th>\n",
       "      <td>2</td>\n",
       "      <td>Prisklass 1</td>\n",
       "      <td>VESUVIO</td>\n",
       "      <td>tomatsås, ost, skinka</td>\n",
       "      <td>99</td>\n",
       "    </tr>\n",
       "    <tr>\n",
       "      <th>2</th>\n",
       "      <td>3</td>\n",
       "      <td>Prisklass 1</td>\n",
       "      <td>FUNGHI</td>\n",
       "      <td>tomatsås, ost, färska champinjoner</td>\n",
       "      <td>99</td>\n",
       "    </tr>\n",
       "    <tr>\n",
       "      <th>3</th>\n",
       "      <td>4</td>\n",
       "      <td>Prisklass 1</td>\n",
       "      <td>BOLOGNES</td>\n",
       "      <td>tomatsås, ost, köttfärssås, lök</td>\n",
       "      <td>99</td>\n",
       "    </tr>\n",
       "    <tr>\n",
       "      <th>4</th>\n",
       "      <td>5</td>\n",
       "      <td>Prisklass 1</td>\n",
       "      <td>GALINI</td>\n",
       "      <td>tomatsås, ost, räkor, f. vitlök, persilja</td>\n",
       "      <td>99</td>\n",
       "    </tr>\n",
       "    <tr>\n",
       "      <th>5</th>\n",
       "      <td>6</td>\n",
       "      <td>Prisklass 1</td>\n",
       "      <td>SALAMI</td>\n",
       "      <td>tomatsås, ost, lök, f. tomater, oliver, salami</td>\n",
       "      <td>99</td>\n",
       "    </tr>\n",
       "    <tr>\n",
       "      <th>6</th>\n",
       "      <td>7</td>\n",
       "      <td>Prisklass 1</td>\n",
       "      <td>AL TONO</td>\n",
       "      <td>tomatsås, ost, tonfisk, lök</td>\n",
       "      <td>99</td>\n",
       "    </tr>\n",
       "    <tr>\n",
       "      <th>7</th>\n",
       "      <td>8</td>\n",
       "      <td>Prisklass 1</td>\n",
       "      <td>BUSSOLA</td>\n",
       "      <td>tomatsås, ost, skinka, räkor</td>\n",
       "      <td>99</td>\n",
       "    </tr>\n",
       "    <tr>\n",
       "      <th>8</th>\n",
       "      <td>9</td>\n",
       "      <td>Prisklass 1</td>\n",
       "      <td>CAPRICCIOSA</td>\n",
       "      <td>tomatsås, ost, skinka, f. champinjoner</td>\n",
       "      <td>99</td>\n",
       "    </tr>\n",
       "    <tr>\n",
       "      <th>9</th>\n",
       "      <td>10</td>\n",
       "      <td>Prisklass 1</td>\n",
       "      <td>HAWAII</td>\n",
       "      <td>tomatsås, ost, skinka, ananas</td>\n",
       "      <td>99</td>\n",
       "    </tr>\n",
       "    <tr>\n",
       "      <th>10</th>\n",
       "      <td>11</td>\n",
       "      <td>Prisklass 1</td>\n",
       "      <td>SUSANNAS</td>\n",
       "      <td>tomatsås, ost, räkor, f. champinjoner</td>\n",
       "      <td>99</td>\n",
       "    </tr>\n",
       "    <tr>\n",
       "      <th>11</th>\n",
       "      <td>12</td>\n",
       "      <td>Prisklass 1</td>\n",
       "      <td>MARINARA</td>\n",
       "      <td>tomatsås, ost, räkor, musslor</td>\n",
       "      <td>99</td>\n",
       "    </tr>\n",
       "    <tr>\n",
       "      <th>12</th>\n",
       "      <td>13</td>\n",
       "      <td>Prisklass 1</td>\n",
       "      <td>NAPOLITANA</td>\n",
       "      <td>tomatsås, ost, sardeller, oliver, capris</td>\n",
       "      <td>99</td>\n",
       "    </tr>\n",
       "    <tr>\n",
       "      <th>13</th>\n",
       "      <td>14</td>\n",
       "      <td>Prisklass 1</td>\n",
       "      <td>DEL OPERA</td>\n",
       "      <td>tomatsås, ost, skinka, tonfisk</td>\n",
       "      <td>99</td>\n",
       "    </tr>\n",
       "    <tr>\n",
       "      <th>14</th>\n",
       "      <td>15</td>\n",
       "      <td>Prisklass 1</td>\n",
       "      <td>POMPEI</td>\n",
       "      <td>tomatsås, ost, bacon, lök, ägg</td>\n",
       "      <td>99</td>\n",
       "    </tr>\n",
       "    <tr>\n",
       "      <th>69</th>\n",
       "      <td>70</td>\n",
       "      <td>Inbakade Pizzor</td>\n",
       "      <td>CALZONE</td>\n",
       "      <td>tomatsås, ost, skinka</td>\n",
       "      <td>99</td>\n",
       "    </tr>\n",
       "  </tbody>\n",
       "</table>\n",
       "</div>"
      ],
      "text/plain": [
       "    NUMBER             TYPE         NAME  \\\n",
       "0        1      Prisklass 1   MARGHERITA   \n",
       "1        2      Prisklass 1      VESUVIO   \n",
       "2        3      Prisklass 1       FUNGHI   \n",
       "3        4      Prisklass 1     BOLOGNES   \n",
       "4        5      Prisklass 1       GALINI   \n",
       "5        6      Prisklass 1       SALAMI   \n",
       "6        7      Prisklass 1      AL TONO   \n",
       "7        8      Prisklass 1      BUSSOLA   \n",
       "8        9      Prisklass 1  CAPRICCIOSA   \n",
       "9       10      Prisklass 1       HAWAII   \n",
       "10      11      Prisklass 1     SUSANNAS   \n",
       "11      12      Prisklass 1     MARINARA   \n",
       "12      13      Prisklass 1   NAPOLITANA   \n",
       "13      14      Prisklass 1    DEL OPERA   \n",
       "14      15      Prisklass 1       POMPEI   \n",
       "69      70  Inbakade Pizzor      CALZONE   \n",
       "\n",
       "                                           CONTENT  PRICE  \n",
       "0                                    tomatsås, ost     99  \n",
       "1                            tomatsås, ost, skinka     99  \n",
       "2               tomatsås, ost, färska champinjoner     99  \n",
       "3                  tomatsås, ost, köttfärssås, lök     99  \n",
       "4        tomatsås, ost, räkor, f. vitlök, persilja     99  \n",
       "5   tomatsås, ost, lök, f. tomater, oliver, salami     99  \n",
       "6                      tomatsås, ost, tonfisk, lök     99  \n",
       "7                     tomatsås, ost, skinka, räkor     99  \n",
       "8           tomatsås, ost, skinka, f. champinjoner     99  \n",
       "9                    tomatsås, ost, skinka, ananas     99  \n",
       "10           tomatsås, ost, räkor, f. champinjoner     99  \n",
       "11                   tomatsås, ost, räkor, musslor     99  \n",
       "12        tomatsås, ost, sardeller, oliver, capris     99  \n",
       "13                  tomatsås, ost, skinka, tonfisk     99  \n",
       "14                  tomatsås, ost, bacon, lök, ägg     99  \n",
       "69                           tomatsås, ost, skinka     99  "
      ]
     },
     "metadata": {},
     "output_type": "display_data"
    }
   ],
   "source": [
    "# Choose Pizza depending on price\n",
    "ALL = 'ALL'\n",
    "\n",
    "def unique_prices_ALL(array):\n",
    "    unique = array.unique().tolist()\n",
    "    unique.sort()\n",
    "    unique.insert(0, ALL)\n",
    "    return unique\n",
    "\n",
    "dropdown_pizza = widgets.Dropdown(options= unique_prices_ALL(df['PRICE']), description = 'Pizza:')\n",
    "\n",
    "def dropdown_pizza_handler(change):\n",
    "    if (change.new == ALL):\n",
    "        display(df)\n",
    "    else:\n",
    "        display(df.loc[df['PRICE'] == change.new])\n",
    "    with output:\n",
    "        clear_output()\n",
    "          \n",
    "        \n",
    "dropdown_pizza.observe(dropdown_pizza_handler, names='value')\n",
    "\n",
    "display(dropdown_pizza)\n"
   ]
  },
  {
   "cell_type": "code",
   "execution_count": 472,
   "metadata": {},
   "outputs": [
    {
     "data": {
      "application/vnd.jupyter.widget-view+json": {
       "model_id": "50ad30217dd149c0ba2498f7582e9ead",
       "version_major": 2,
       "version_minor": 0
      },
      "text/plain": [
       "RadioButtons(description='Dryck:', options=('Nej', 'Ja'), value=None)"
      ]
     },
     "metadata": {},
     "output_type": "display_data"
    },
    {
     "data": {
      "application/vnd.jupyter.widget-view+json": {
       "model_id": "55ef54543284481fbf259da8c75ec8e5",
       "version_major": 2,
       "version_minor": 0
      },
      "text/plain": [
       "Output()"
      ]
     },
     "metadata": {},
     "output_type": "display_data"
    },
    {
     "data": {
      "application/vnd.jupyter.widget-view+json": {
       "model_id": "cb02048576394000a735a6b51bf880ca",
       "version_major": 2,
       "version_minor": 0
      },
      "text/plain": [
       "RadioButtons(description='Sås:', options=('Nej', 'Ja'), value=None)"
      ]
     },
     "metadata": {},
     "output_type": "display_data"
    },
    {
     "data": {
      "application/vnd.jupyter.widget-view+json": {
       "model_id": "fe6a25fead0d46a99e7e4efa376c8535",
       "version_major": 2,
       "version_minor": 0
      },
      "text/plain": [
       "Output()"
      ]
     },
     "metadata": {},
     "output_type": "display_data"
    },
    {
     "data": {
      "application/vnd.jupyter.widget-view+json": {
       "model_id": "51cf6b9a4f9e4b049599fba34dd38f16",
       "version_major": 2,
       "version_minor": 0
      },
      "text/plain": [
       "Dropdown(description='Pizza:', options=('MARGHERITA', 'VESUVIO', 'FUNGHI', 'BOLOGNES', 'GALINI', 'SALAMI', 'AL…"
      ]
     },
     "metadata": {},
     "output_type": "display_data"
    },
    {
     "data": {
      "application/vnd.jupyter.widget-view+json": {
       "model_id": "cb57dad52ecf404b9d329c1f55ae6cdb",
       "version_major": 2,
       "version_minor": 0
      },
      "text/plain": [
       "Output()"
      ]
     },
     "metadata": {},
     "output_type": "display_data"
    },
    {
     "data": {
      "application/vnd.jupyter.widget-view+json": {
       "model_id": "e4bedbe94cc1478ba324d81a07d26f85",
       "version_major": 2,
       "version_minor": 0
      },
      "text/plain": [
       "Button(description='Hämta kostnad', style=ButtonStyle())"
      ]
     },
     "metadata": {},
     "output_type": "display_data"
    },
    {
     "name": "stdout",
     "output_type": "stream",
     "text": [
      "['MARGHERITA']\n",
      "['Nej']\n",
      "['Ja']\n",
      "['MARGHERITA']\n",
      "['Ja']\n",
      "['Ja']\n"
     ]
    }
   ],
   "source": [
    "#Template for ordering pizza\n",
    "#\n",
    "pizza = None\n",
    "addon = None\n",
    "from ipywidgets import widgets\n",
    "from IPython.display import display, clear_output\n",
    "import pandas as pd\n",
    "\n",
    "# List of addons\n",
    "Dryck = [('Nej', 0, 'Nej', 'Dryck'),\n",
    "            ('Ja', 20, 'Ja', 'Dryck'),]\n",
    "\n",
    "Sås = [('Nej', 0, 'Nej', 'Sås'), ('Ja', 15, 'Ja', 'Sås'),]\n",
    "\n",
    "# Create a DataFrame Drink\n",
    "d_obj = pd.DataFrame(Dryck, \n",
    "                      columns=['CHOICE', 'PRICE', 'DESC', 'TYPE'],\n",
    "                      index=None)\n",
    "\n",
    "# Create a DataFrame sauce\n",
    "s_obj = pd.DataFrame(Sås, \n",
    "                      columns=['CHOICE', 'PRICE', 'DESC', 'TYPE'],\n",
    "                      index=None)\n",
    "\n",
    "\n",
    "# Define checkbox for Drink option\n",
    "d = drink_button = widgets.RadioButtons(\n",
    "    options=list(d_obj['DESC']), \n",
    "    value=None,\n",
    "    description='Dryck:',\n",
    "    disabled=False)\n",
    "output3 = widgets.Output()\n",
    "display(drink_button, output3)\n",
    "\n",
    "# Define checkbox for Sauce\n",
    "s = sauce_button = widgets.RadioButtons(\n",
    "    options=list(s_obj['DESC']), \n",
    "    value=None,\n",
    "    description='Sås:',\n",
    "    disabled=False)\n",
    "output4 = widgets.Output()\n",
    "display(sauce_button, output4)\n",
    "\n",
    "# \n",
    "def calc_sum(summary):\n",
    "    global pizza\n",
    "    print([w.value])\n",
    "    print([s.value])\n",
    "    print([d.value])\n",
    "    get_index_of_pizza = df.loc[df['NAME'] == w.value]\n",
    "    get_index_of_sauce = s_obj.loc[s_obj['DESC'] == s.value]\n",
    "    get_index_of_drink = d_obj.loc[d_obj['DESC'] == d.value]\n",
    "    pizza = get_index_of_pizza['PRICE']\n",
    "    sauce = get_index_of_sauce['PRICE']\n",
    "    drink = get_index_of_drink['PRICE']\n",
    "    price = pd.concat([pizza, sauce, drink], axis=0)\n",
    "    with output:\n",
    "        clear_output()\n",
    "        print('Pris i SEK: ' + str(price.sum()))\n",
    "        \n",
    "w = widgets.Dropdown(options=list(df['NAME']), description = 'Pizza:')\n",
    "\n",
    "button = widgets.Button(description=\"Hämta kostnad\")\n",
    "output = widgets.Output()\n",
    "display(w, output, button)\n",
    "button.on_click(calc_sum)"
   ]
  },
  {
   "cell_type": "code",
   "execution_count": null,
   "metadata": {},
   "outputs": [],
   "source": []
  }
 ],
 "metadata": {
  "kernelspec": {
   "display_name": "Python 3",
   "language": "python",
   "name": "python3"
  },
  "language_info": {
   "codemirror_mode": {
    "name": "ipython",
    "version": 3
   },
   "file_extension": ".py",
   "mimetype": "text/x-python",
   "name": "python",
   "nbconvert_exporter": "python",
   "pygments_lexer": "ipython3",
   "version": "3.8.3"
  }
 },
 "nbformat": 4,
 "nbformat_minor": 4
}
