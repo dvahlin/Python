{
 "cells": [
  {
   "cell_type": "code",
   "execution_count": null,
   "metadata": {},
   "outputs": [],
   "source": [
    "# Standard pandas numpy\n",
    "import numpy as np\n",
    "import pandas as pd\n",
    "import scipy\n",
    "import ipywidgets as widgets\n",
    "from ipywidgets import interact, interact_manual\n",
    "from IPython.display import Image, display, HTML\n",
    "# Show all code cells outputs\n",
    "from IPython.core.interactiveshell import InteractiveShell\n",
    "InteractiveShell.ast_node_interactivity = 'all'"
   ]
  },
  {
   "cell_type": "code",
   "execution_count": null,
   "metadata": {},
   "outputs": [],
   "source": [
    "csv_file = '/root/menu.csv'"
   ]
  },
  {
   "cell_type": "code",
   "execution_count": null,
   "metadata": {},
   "outputs": [],
   "source": [
    "df = pd.read_csv(csv_file, sep='\\t', header=0)"
   ]
  },
  {
   "cell_type": "code",
   "execution_count": null,
   "metadata": {},
   "outputs": [],
   "source": [
    "# Search on name of pizza\n",
    "out = widgets.Output()\n",
    "display(out)\n",
    "\n",
    "textbox = widgets.Text(value='', description='Pizza:')\n",
    "display(textbox)\n",
    "\n",
    "def display_result(value):\n",
    "    value = str(value['new']).upper() \n",
    "    if \"{\" not in value:\n",
    "        result = df[(df['NAME'].str.contains(value))]  \n",
    "        out.clear_output()\n",
    "        if result.shape[0]>0:\n",
    "            with out:\n",
    "                display(result)\n",
    "\n",
    "\n",
    "textbox.observe(display_result)"
   ]
  },
  {
   "cell_type": "code",
   "execution_count": null,
   "metadata": {
    "scrolled": true
   },
   "outputs": [],
   "source": [
    "# Search for content on pizza to find your flavour\n",
    "import pandas as pd, IPython.display, ipywidgets as widgets \n",
    "out = widgets.Output()\n",
    "display(out)\n",
    "\n",
    "textbox = widgets.Text(value='', description='Innehåll:')\n",
    "display(textbox)\n",
    "\n",
    "def display_result(value):\n",
    "    value = str(value['new']).lower() \n",
    "    if \"{\" not in value:\n",
    "        result = df[(df['CONTENT'].str.contains(value))]  \n",
    "        out.clear_output()\n",
    "        if result.shape[0]>0:\n",
    "            with out:\n",
    "                display(result)\n",
    "\n",
    "\n",
    "textbox.observe(display_result)"
   ]
  },
  {
   "cell_type": "code",
   "execution_count": null,
   "metadata": {},
   "outputs": [],
   "source": [
    "# Choose Pizza depending on price\n",
    "ALL = 'ALL'\n",
    "\n",
    "def unique_prices_ALL(array):\n",
    "    unique = array.unique().tolist()\n",
    "    unique.sort()\n",
    "    unique.insert(0, ALL)\n",
    "    return unique\n",
    "\n",
    "dropdown_pizza = widgets.Dropdown(options= unique_prices_ALL(df['PRICE']), description = 'Pizza:')\n",
    "\n",
    "def dropdown_pizza_handler(change):\n",
    "    if (change.new == ALL):\n",
    "        display(df)\n",
    "    else:\n",
    "        display(df.loc[df['PRICE'] == change.new])\n",
    "    with output:\n",
    "        clear_output()\n",
    "          \n",
    "        \n",
    "dropdown_pizza.observe(dropdown_pizza_handler, names='value')\n",
    "\n",
    "display(dropdown_pizza)\n"
   ]
  },
  {
   "cell_type": "code",
   "execution_count": null,
   "metadata": {},
   "outputs": [],
   "source": [
    "#Template for ordering pizza\n",
    "#\n",
    "pizza = None\n",
    "addon = None\n",
    "from ipywidgets import widgets\n",
    "from IPython.display import display, clear_output\n",
    "import pandas as pd\n",
    "\n",
    "# List of addons\n",
    "Dryck = [('Nej', 0, 'Nej', 'Dryck'),\n",
    "            ('Ja', 20, 'Ja', 'Dryck'),]\n",
    "\n",
    "Sås = [('Nej', 0, 'Nej', 'Sås'), ('Ja', 15, 'Ja', 'Sås'),]\n",
    "\n",
    "# Create a DataFrame Drink\n",
    "d_obj = pd.DataFrame(Dryck, \n",
    "                      columns=['CHOICE', 'PRICE', 'DESC', 'TYPE'],\n",
    "                      index=None)\n",
    "\n",
    "# Create a DataFrame sauce\n",
    "s_obj = pd.DataFrame(Sås, \n",
    "                      columns=['CHOICE', 'PRICE', 'DESC', 'TYPE'],\n",
    "                      index=None)\n",
    "\n",
    "\n",
    "# Define checkbox for Drink option\n",
    "d = drink_button = widgets.RadioButtons(\n",
    "    options=list(d_obj['DESC']), \n",
    "    value=None,\n",
    "    description='Dryck:',\n",
    "    disabled=False)\n",
    "output3 = widgets.Output()\n",
    "display(drink_button, output3)\n",
    "\n",
    "# Define checkbox for Sauce\n",
    "s = sauce_button = widgets.RadioButtons(\n",
    "    options=list(s_obj['DESC']), \n",
    "    value=None,\n",
    "    description='Sås:',\n",
    "    disabled=False)\n",
    "output4 = widgets.Output()\n",
    "display(sauce_button, output4)\n",
    "\n",
    "# \n",
    "def calc_sum(summary):\n",
    "    global pizza\n",
    "    print([w.value])\n",
    "    print([s.value])\n",
    "    print([d.value])\n",
    "    get_index_of_pizza = df.loc[df['NAME'] == w.value]\n",
    "    get_index_of_sauce = s_obj.loc[s_obj['DESC'] == s.value]\n",
    "    get_index_of_drink = d_obj.loc[d_obj['DESC'] == d.value]\n",
    "    pizza = get_index_of_pizza['PRICE']\n",
    "    sauce = get_index_of_sauce['PRICE']\n",
    "    drink = get_index_of_drink['PRICE']\n",
    "    price = pd.concat([pizza, sauce, drink], axis=0)\n",
    "    with output:\n",
    "        clear_output()\n",
    "        print('Pris i SEK: ' + str(price.sum()))\n",
    "        \n",
    "w = widgets.Dropdown(options=list(df['NAME']), description = 'Pizza:')\n",
    "\n",
    "button = widgets.Button(description=\"Hämta kostnad\")\n",
    "output = widgets.Output()\n",
    "display(w, output, button)\n",
    "button.on_click(calc_sum)"
   ]
  },
  {
   "cell_type": "code",
   "execution_count": null,
   "metadata": {},
   "outputs": [],
   "source": []
  }
 ],
 "metadata": {
  "kernelspec": {
   "display_name": "Python 3",
   "language": "python",
   "name": "python3"
  },
  "language_info": {
   "codemirror_mode": {
    "name": "ipython",
    "version": 3
   },
   "file_extension": ".py",
   "mimetype": "text/x-python",
   "name": "python",
   "nbconvert_exporter": "python",
   "pygments_lexer": "ipython3",
   "version": "3.8.3"
  }
 },
 "nbformat": 4,
 "nbformat_minor": 4
}
