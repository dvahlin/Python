{
 "cells": [
  {
   "cell_type": "code",
   "execution_count": null,
   "metadata": {},
   "outputs": [],
   "source": [
    "import pandas as pd\n",
    "import numpy as np"
   ]
  },
  {
   "cell_type": "code",
   "execution_count": null,
   "metadata": {},
   "outputs": [],
   "source": [
    "csv_file = '/root/menyparse/menu.csv'"
   ]
  },
  {
   "cell_type": "code",
   "execution_count": null,
   "metadata": {},
   "outputs": [],
   "source": [
    "df = pd.read_csv(csv_file, sep='\\t', header=0)"
   ]
  },
  {
   "cell_type": "code",
   "execution_count": null,
   "metadata": {},
   "outputs": [],
   "source": [
    "df.dtypes"
   ]
  },
  {
   "cell_type": "code",
   "execution_count": null,
   "metadata": {},
   "outputs": [],
   "source": [
    "df.info()"
   ]
  },
  {
   "cell_type": "code",
   "execution_count": null,
   "metadata": {},
   "outputs": [],
   "source": [
    "df.select_dtypes(include='object').head()"
   ]
  },
  {
   "cell_type": "code",
   "execution_count": null,
   "metadata": {
    "scrolled": true
   },
   "outputs": [],
   "source": [
    "df.NAME.unique()"
   ]
  },
  {
   "cell_type": "code",
   "execution_count": null,
   "metadata": {},
   "outputs": [],
   "source": [
    "# Standard pandas numpy\n",
    "import numpy as np\n",
    "import pandas as pd\n",
    "import scipy\n",
    "\n",
    "# Show all code cells outputs\n",
    "from IPython.core.interactiveshell import InteractiveShell\n",
    "InteractiveShell.ast_node_interactivity = 'all'"
   ]
  },
  {
   "cell_type": "code",
   "execution_count": null,
   "metadata": {},
   "outputs": [],
   "source": [
    "import ipywidgets as widgets\n",
    "from ipywidgets import interact, interact_manual\n",
    "from IPython.display import Image, display, HTML"
   ]
  },
  {
   "cell_type": "code",
   "execution_count": null,
   "metadata": {},
   "outputs": [],
   "source": [
    "@interact\n",
    "def show_price(column='PRICE', x=99):\n",
    "    display(HTML(f'<h2>Showing Pizza lesser than {x}:-<h2>'))\n",
    "    display(df.loc[df[column] < x, ['NUMBER', 'NAME', 'CONTENT', 'PRICE']])"
   ]
  },
  {
   "cell_type": "code",
   "execution_count": null,
   "metadata": {
    "scrolled": true
   },
   "outputs": [],
   "source": [
    "pizza = None\n",
    "from ipywidgets import widgets\n",
    "from IPython.display import display, clear_output\n",
    "import pandas as pd\n",
    "\n",
    "def get_price(dataframe_index):\n",
    "    return df.loc[dataframe_index]\n",
    "\n",
    "def on_button_clicked(b):\n",
    "    global pizza\n",
    "\n",
    "    print([w.value])\n",
    "    get_index_of_pizza = df.index[df['NAME'] == w.value]\n",
    "    pizza = get_price(get_index_of_pizza)\n",
    "    \n",
    "    with output:\n",
    "        clear_output()\n",
    "        print(str(pizza))\n",
    "        \n",
    "w = widgets.Dropdown(options=list(df['NAME']), description = 'Label:')\n",
    "\n",
    "button = widgets.Button(description=\"Hämta kostnad\")\n",
    "output = widgets.Output()\n",
    "\n",
    "display(w)        \n",
    "display(button, output)\n",
    "button.on_click(on_button_clicked)"
   ]
  },
  {
   "cell_type": "code",
   "execution_count": null,
   "metadata": {},
   "outputs": [],
   "source": [
    "pizza = None\n",
    "from ipywidgets import widgets\n",
    "from IPython.display import display, clear_output\n",
    "import pandas as pd\n",
    "\n",
    "def myfunc(price):\n",
    "    return df.loc[price]['PRICE']\n",
    "\n",
    "def on_button_clicked(b):\n",
    "    global pizza\n",
    "    pizza = myfunc(w.value)\n",
    "    with output:\n",
    "        clear_output()\n",
    "        print('Pris i SEK: ' + str(pizza))\n",
    "        \n",
    "w = widgets.Dropdown(options=df['NUMBER'], description = 'Pizza:')\n",
    "\n",
    "button = widgets.Button(description=\"Hämta kostnad\")\n",
    "output = widgets.Output()\n",
    "\n",
    "display(w)        \n",
    "display(button, output)\n",
    "button.on_click(on_button_clicked)"
   ]
  },
  {
   "cell_type": "code",
   "execution_count": null,
   "metadata": {},
   "outputs": [],
   "source": [
    "import pandas as pd, IPython.display, ipywidgets as widgets \n",
    "out = widgets.Output()\n",
    "display(out)\n",
    "\n",
    "textbox = widgets.Text(value='', description='Pizza:')\n",
    "display(textbox)\n",
    "\n",
    "def display_result(value):\n",
    "    value = str(value['new']).upper() \n",
    "    if \"{\" not in value:\n",
    "        result = df[(df['NAME'].str.contains(value))]  \n",
    "        out.clear_output()\n",
    "        if result.shape[0]>0:\n",
    "            with out:\n",
    "                display(result)\n",
    "\n",
    "\n",
    "textbox.observe(display_result)"
   ]
  },
  {
   "cell_type": "code",
   "execution_count": null,
   "metadata": {},
   "outputs": [],
   "source": [
    "import pandas as pd, IPython.display, ipywidgets as widgets \n",
    "out = widgets.Output()\n",
    "display(out)\n",
    "\n",
    "textbox = widgets.Text(value='', description='Innehåll:')\n",
    "display(textbox)\n",
    "\n",
    "def display_result(value):\n",
    "    value = str(value['new']).lower() \n",
    "    if \"{\" not in value:\n",
    "        result = df[(df['CONTENT'].str.contains(value))]  \n",
    "        out.clear_output()\n",
    "        if result.shape[0]>0:\n",
    "            with out:\n",
    "                display(result)\n",
    "\n",
    "\n",
    "textbox.observe(display_result)"
   ]
  },
  {
   "cell_type": "code",
   "execution_count": null,
   "metadata": {},
   "outputs": [],
   "source": []
  },
  {
   "cell_type": "code",
   "execution_count": null,
   "metadata": {},
   "outputs": [],
   "source": []
  }
 ],
 "metadata": {
  "kernelspec": {
   "display_name": "Python 3",
   "language": "python",
   "name": "python3"
  },
  "language_info": {
   "codemirror_mode": {
    "name": "ipython",
    "version": 3
   },
   "file_extension": ".py",
   "mimetype": "text/x-python",
   "name": "python",
   "nbconvert_exporter": "python",
   "pygments_lexer": "ipython3",
   "version": "3.8.3"
  }
 },
 "nbformat": 4,
 "nbformat_minor": 4
}
